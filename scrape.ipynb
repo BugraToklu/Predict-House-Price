{
 "cells": [
  {
   "cell_type": "code",
   "execution_count": 2,
   "id": "8afb1bed",
   "metadata": {
    "scrolled": true
   },
   "outputs": [
    {
     "name": "stdout",
     "output_type": "stream",
     "text": [
      "page:1\n",
      "page:2\n",
      "page:3\n",
      "page:4\n",
      "page:5\n",
      "page:6\n",
      "page:7\n",
      "page:8\n",
      "page:9\n",
      "page:10\n",
      "page:11\n",
      "page:12\n",
      "page:13\n",
      "page:14\n",
      "page:15\n",
      "page:16\n",
      "page:17\n",
      "page:18\n",
      "page:19\n",
      "                                               title  \\\n",
      "0                          Flat Rijnstraat       ...   \n",
      "1                          Flat Julius Pergerstra...   \n",
      "2                          Flat Westerdok        ...   \n",
      "3                          Flat Reestraat        ...   \n",
      "4                          Flat Frederiksplein   ...   \n",
      "\n",
      "                                               price   area    rooms  \\\n",
      "0                  €2,500 per month              ...  81 m²  3 rooms   \n",
      "1                  €2,100 per month              ...  85 m²  3 rooms   \n",
      "2                  €1,950 per month              ...  70 m²  2 rooms   \n",
      "3                  €2,750 per month              ...  85 m²  4 rooms   \n",
      "4                  €2,500 per month              ...  85 m²  3 rooms   \n",
      "\n",
      "         interior  \n",
      "0  Part-furnished  \n",
      "1       Furnished  \n",
      "2       Furnished  \n",
      "3  Part-furnished  \n",
      "4       Furnished  \n"
     ]
    }
   ],
   "source": [
    "from bs4 import BeautifulSoup\n",
    "import requests\n",
    "from csv import writer\n",
    "import pandas as pd\n",
    "\n",
    "def extract(page):\n",
    "    url= f'https://www.pararius.com/apartments/amsterdam/page-{page}'\n",
    "    page = requests.get(url)\n",
    "    soup = BeautifulSoup(page.content, 'html.parser')\n",
    "    return soup\n",
    "\n",
    "def transform(soup):\n",
    "\n",
    "    lists= soup.find_all('section', class_=\"listing-search-item\")\n",
    "    for list in lists:\n",
    "        title = list.find('a', class_='listing-search-item__link--title').text.replace('\\n', '')\n",
    "        price = list.find('div', class_='listing-search-item__price').text.replace('\\n', '')\n",
    "        area = list.find('li', class_='illustrated-features__item--surface-area').text.replace('\\n', '')\n",
    "        rooms = list.find('li', class_='illustrated-features__item--number-of-rooms').text.replace('\\n', '')\n",
    "        interior = list.find('li', class_='illustrated-features__item--interior')\n",
    "        if interior is not None:\n",
    "            interior= interior.text.replace('\\n', '')\n",
    "        else:\n",
    "            interior = None\n",
    "\n",
    "        \n",
    "    \n",
    "\n",
    "        House_info = {'title': title, \n",
    "        'price': price,\n",
    "        'area': area,\n",
    "        'rooms': rooms,\n",
    "        'interior': interior,\n",
    "        }\n",
    "        Apartment.append(House_info)\n",
    "\n",
    "Apartment = []\n",
    "for i in range(1,20,1):\n",
    "    print(f'page:{i}')\n",
    "    c = extract(1)\n",
    "    transform(c) \n",
    "\n",
    "df = pd.DataFrame(Apartment)\n",
    "\n",
    "print(df.head())\n",
    " \n",
    "df.to_csv('Houses.csv')"
   ]
  },
  {
   "cell_type": "code",
   "execution_count": null,
   "id": "b7799f93",
   "metadata": {},
   "outputs": [],
   "source": []
  }
 ],
 "metadata": {
  "kernelspec": {
   "display_name": "Python 3 (ipykernel)",
   "language": "python",
   "name": "python3"
  },
  "language_info": {
   "codemirror_mode": {
    "name": "ipython",
    "version": 3
   },
   "file_extension": ".py",
   "mimetype": "text/x-python",
   "name": "python",
   "nbconvert_exporter": "python",
   "pygments_lexer": "ipython3",
   "version": "3.11.5"
  }
 },
 "nbformat": 4,
 "nbformat_minor": 5
}
